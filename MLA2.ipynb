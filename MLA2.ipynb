{
 "cells": [
  {
   "cell_type": "markdown",
   "metadata": {},
   "source": [
    "# COSC2673 - Machine Learning - Assignment 2\n",
    "### Authors: Louise Platts (S3908818) & Samuel Macintyre (S3888492)\n",
    "\n",
    "# Classifying Images of Road Traffic Signs"
   ]
  },
  {
   "cell_type": "markdown",
   "metadata": {},
   "source": [
    "# Introduction"
   ]
  },
  {
   "cell_type": "markdown",
   "metadata": {},
   "source": [
    "* want to solve two problems \n",
    "    - classifying road signs according to sign-shape\n",
    "    - classifying road signs according to sign-type\n",
    "* utilises the modified Belgium Traffic Sign Classification Benchmark dataset (as preprepared for this assignment and provided on Canvas)\n",
    "* problems will be solved via investigations of supervised machine learning algorithms for each of the two problems\n",
    "* a final independent evaluation will also take place which will involve using the trained models on independently collected data and evaluating performance\n",
    "\n",
    "#### More about the dataset\n",
    "* 28x28 gray-scale images \n",
    "* possible sign-shapes\n",
    "    - diamond\n",
    "    - hex \n",
    "    - round \n",
    "    - square\n",
    "    - triangle\n",
    "* possible sign-types\n",
    "    - right of way\n",
    "    - stop\n",
    "    - bicycle\n",
    "    - limited traffic\n",
    "    - no entry\n",
    "    - no parking\n",
    "    - roundabout\n",
    "    - speed\n",
    "    - traffic directive\n",
    "    - travel direction\n",
    "    - continue\n",
    "    - crossing\n",
    "    - lane end\n",
    "    - parking\n",
    "    - giveway\n",
    "    - warning\n"
   ]
  },
  {
   "cell_type": "markdown",
   "metadata": {},
   "source": [
    "#### CRISP-DM Process \n",
    "Our investigation and solution to the problem is guided by the Cross Industry Standard Process for Data Mining (CRISP-DM) process.  Kelleher, Namee and D'Arcy (2015) describe this process as containing key phases which have been modified to suit our problem and will be addressed as follows:\n",
    "* Data Understanding - examining the data structure, and for our case the file structure as this contains the relevant label for each data point \n",
    "* Data Preparation - examining required inputs of machine learning algorithms and models and transforming to suit\n",
    "* Modelling - apply machine learning algorithms and models to investigate the application and performance of models, and attempt to improve performance via tuning \n",
    "* Evaluation - generating performance metrics for models generated, and using this to guide further tuning and improvement of models, finding the ultimate best model type and parameter choice for the problem to solve\n",
    "* Deployment - using the ultimate model found for each problem and applying it to independent data to implement the model in a real-world situation"
   ]
  },
  {
   "cell_type": "markdown",
   "metadata": {},
   "source": [
    "#### Libraries Required\n",
    "\n",
    "* what libraries are available for image classification supervised ml \n",
    "* why we made decisions we did - e.g. tensorflow because taught and requested by teacing team ?? [probs not this but lol we have been told] etc. "
   ]
  },
  {
   "cell_type": "code",
   "execution_count": 81,
   "metadata": {},
   "outputs": [],
   "source": [
    "# import statements\n",
    "    \n",
    "import numpy as np\n",
    "import pandas as pd\n",
    "\n",
    "import matplotlib.pyplot as plt\n",
    "import seaborn as sns\n",
    "\n",
    "import glob\n",
    "from PIL import Image\n",
    "import zipfile\n",
    "\n",
    "import tensorflow as tf\n",
    "from tensorflow.keras.preprocessing.image import ImageDataGenerator\n",
    "from sklearn.model_selection import train_test_split\n",
    "\n"
   ]
  },
  {
   "cell_type": "code",
   "execution_count": 91,
   "metadata": {},
   "outputs": [
    {
     "name": "stderr",
     "output_type": "stream",
     "text": [
      "c:\\Users\\SJMac\\anaconda3\\envs\\pds\\lib\\site-packages\\keras\\backend.py:450: UserWarning: `tf.keras.backend.set_learning_phase` is deprecated and will be removed after 2020-10-11. To update it, simply pass a True/False value to the `training` argument of the `__call__` method of your layer or model.\n",
      "  warnings.warn('`tf.keras.backend.set_learning_phase` is deprecated and '\n"
     ]
    }
   ],
   "source": [
    "# import statements from resnet notebook\n",
    "\n",
    "# need to test commented out isn't needed\n",
    "from keras import layers\n",
    "from keras.layers import Input, Add, Dense, Activation, ZeroPadding2D, BatchNormalization, Flatten, Conv2D, AveragePooling2D, MaxPooling2D, GlobalMaxPooling2D\n",
    "from keras.models import Model, load_model\n",
    "# from keras.preprocessing import image\n",
    "# from keras.utils import layer_utils\n",
    "# from keras.utils.data_utils import get_file\n",
    "# from keras.applications.imagenet_utils import preprocess_input\n",
    "# import pydot\n",
    "# from IPython.display import SVG\n",
    "# from keras.utils.vis_utils import model_to_dot\n",
    "# from keras.utils.vis_utils import plot_model\n",
    "from keras.initializers import glorot_uniform\n",
    "# import scipy.misc\n",
    "# from matplotlib.pyplot import imshow\n",
    "\n",
    "# import keras.backend as K\n",
    "# K.set_image_data_format('channels_last')\n",
    "# K.set_learning_phase(1)"
   ]
  },
  {
   "cell_type": "markdown",
   "metadata": {},
   "source": [
    "# Data Understanding & Data Preparation"
   ]
  },
  {
   "cell_type": "code",
   "execution_count": 62,
   "metadata": {},
   "outputs": [],
   "source": [
    "def image_reader(path):\n",
    "    image_list = []\n",
    "    for filepath in glob.glob(path, recursive=True):\n",
    "        shape = filepath.split(\"\\\\\")[-3]\n",
    "        type = filepath.split(\"\\\\\")[-2]\n",
    "        filename = filepath.split(\"\\\\\")[-1]\n",
    "        label = filename.split(\".\")[0]\n",
    "        \n",
    "        image_list.append({\"filepath\": filepath,'filename':filename,'label':label,'shape':shape,'type':type})\n",
    "\n",
    "    dataset = pd.DataFrame(image_list)\n",
    "\n",
    "    return dataset\n",
    "\n",
    "def drop_unused_target(train, val, col):\n",
    "    train1 = train.copy()\n",
    "    val1 = val.copy()\n",
    "\n",
    "    train1 = train1.drop(col,axis=1)\n",
    "    val1 = val1.drop(col,axis=1)\n",
    "    return train1, val1"
   ]
  },
  {
   "cell_type": "code",
   "execution_count": 85,
   "metadata": {},
   "outputs": [
    {
     "name": "stdout",
     "output_type": "stream",
     "text": [
      "Train data : 2959, Val Data: 740\n",
      "Shape Classes:['diamond' 'hex' 'round' 'square' 'triangle']\n",
      "Type Classes: ['rightofway' 'stop' 'bicycle' 'limitedtraffic' 'noentry' 'noparking'\n",
      " 'roundabout' 'speed' 'trafficdirective' 'traveldirection' 'continue'\n",
      " 'crossing' 'laneend' 'parking' 'giveway' 'warning']\n",
      "Num Shape Classes: 5, Num Type Classes: 16\n"
     ]
    }
   ],
   "source": [
    "raw_data = image_reader(\"./trafficsigns_dataset/*/*/*.png\")\n",
    "# raw_data.head()\n",
    "\n",
    "# Split data into train and test\n",
    "train_data, val_data = train_test_split(raw_data, test_size=0.2, random_state=42)\n",
    "\n",
    "TOTAL_SHAPES = raw_data['shape'].nunique()\n",
    "TOTAL_TYPES = raw_data['type'].nunique()\n",
    "\n",
    "SHAPE_NAMES = raw_data['shape'].unique()\n",
    "TYPE_NAMES = raw_data['type'].unique()\n",
    "\n",
    "print(f\"Train data : {train_data.shape[0]}, Val Data: {val_data.shape[0]}\")\n",
    "print(f\"Shape Classes:{SHAPE_NAMES}\")\n",
    "print(f\"Type Classes: {TYPE_NAMES}\")\n",
    "print(f\"Num Shape Classes: {TOTAL_SHAPES}, Num Type Classes: {TOTAL_TYPES}\")\n",
    "\n",
    "\n",
    "# Split training and validation into frames for respective classification type\n",
    "shape_train_data, shape_val_data = drop_unused_target(train_data, val_data, \"type\")\n",
    "type_train_data, type_val_data = drop_unused_target(train_data, val_data, \"shape\")\n"
   ]
  },
  {
   "cell_type": "code",
   "execution_count": 158,
   "metadata": {},
   "outputs": [],
   "source": [
    "def make_subplot(x,data,ax,order,title):\n",
    "    fontsize = 12\n",
    "    sns.countplot(x=x,data=data, order=order, ax=ax)\n",
    "    ax.set_title(title, fontsize=fontsize)\n",
    "    ax.set_xlabel(x, fontsize=fontsize)\n",
    "    ax.set_ylabel(\"Count\", fontsize=fontsize)\n",
    "    ax.tick_params(labelsize=fontsize)\n",
    "    ax.tick_params(axis=\"x\",rotation=90)\n"
   ]
  },
  {
   "cell_type": "code",
   "execution_count": 160,
   "metadata": {},
   "outputs": [
    {
     "data": {
      "image/png": "[encoded data removed]",
      "text/plain": [
       "<Figure size 2160x1296 with 6 Axes>"
      ]
     },
     "metadata": {},
     "output_type": "display_data"
    }
   ],
   "source": [
    "# Check Distribution of classes in training data splits compared to raw\n",
    "\n",
    "sns.set_theme(style=\"darkgrid\")\n",
    "\n",
    "fig, ax = plt.subplots(2,3, figsize=(30,18))\n",
    "\n",
    "make_subplot(x=\"shape\",data=raw_data, order=SHAPE_NAMES, ax=ax[0,0], title=\"Shape Count Raw Data\")\n",
    "make_subplot(x=\"shape\",data=shape_train_data, order=SHAPE_NAMES, ax=ax[0,1], title=\"Shape Count Training Data\")\n",
    "make_subplot(x=\"shape\",data=shape_val_data, order=SHAPE_NAMES, ax=ax[0,2], title=\"Shape Count Validation Data\")\n",
    "make_subplot(x=\"type\",data=raw_data, order=TYPE_NAMES, ax=ax[1,0], title=\"Type Count Raw Data\")\n",
    "make_subplot(x=\"type\",data=type_train_data, order=TYPE_NAMES, ax=ax[1,1], title=\"Type Count Training Data\")\n",
    "make_subplot(x=\"type\",data=type_train_data, order=TYPE_NAMES, ax=ax[1,2], title=\"Type Count Validation Data\")\n"
   ]
  },
  {
   "cell_type": "code",
   "execution_count": 169,
   "metadata": {},
   "outputs": [],
   "source": [
    "class CNNModel:\n",
    "\n",
    "    def create_data_generator(self, df,datagen,batch_size,target):\n",
    "        generator = datagen.flow_from_dataframe(\n",
    "            dataframe=df,\n",
    "            directory = './',\n",
    "            x_col='filepath',\n",
    "            y_col=target,\n",
    "            target_size=(28,28),\n",
    "            batch_size=batch_size,\n",
    "            class_mode='categorical'\n",
    "        )\n",
    "\n",
    "        return generator\n",
    "        \n",
    "\n"
   ]
  },
  {
   "cell_type": "code",
   "execution_count": 170,
   "metadata": {},
   "outputs": [
    {
     "name": "stdout",
     "output_type": "stream",
     "text": [
      "Found 2959 validated image filenames belonging to 5 classes.\n",
      "Found 740 validated image filenames belonging to 5 classes.\n",
      "Found 2959 validated image filenames belonging to 16 classes.\n",
      "Found 740 validated image filenames belonging to 16 classes.\n",
      "Found 2959 validated image filenames belonging to 5 classes.\n",
      "Found 740 validated image filenames belonging to 5 classes.\n",
      "Found 2959 validated image filenames belonging to 16 classes.\n",
      "Found 740 validated image filenames belonging to 16 classes.\n"
     ]
    }
   ],
   "source": [
    "shape_train_datagen = ImageDataGenerator(rescale=1.0/255, data_format='channels_last')\n",
    "shape_val_datagen = ImageDataGenerator(rescale=1.0/255, data_format='channels_last')\n",
    "\n",
    "type_train_datagen = ImageDataGenerator(rescale=1.0/255, data_format='channels_last')\n",
    "type_val_datagen = ImageDataGenerator(rescale=1.0/255, data_format='channels_last')\n",
    "\n",
    "# RESNET PAPER USED Batch Size 256. Batchsize to be updated later (Impact on Run Time)\n",
    "vgg_batch_size = 32\n",
    "resnet_batch_size = 256\n",
    "\n",
    "vgg_shape_model = CNNModel()\n",
    "vgg_type_model = CNNModel()\n",
    "resnet_shape_model = CNNModel()\n",
    "resnet_type_model = CNNModel()\n",
    "\n",
    "# Baseline VGG Shape Model Generators\n",
    "vgg_shape_model.train_generator = vgg_shape_model.create_data_generator(\\\n",
    "    shape_train_data,shape_train_datagen,vgg_batch_size,\"shape\")\n",
    "\n",
    "vgg_shape_model.val_generator = vgg_shape_model.create_data_generator(\\\n",
    "    shape_val_data,shape_val_datagen,vgg_batch_size,\"shape\")\n",
    "\n",
    "# Baseline VGG Type Model Generators\n",
    "vgg_type_model.train_generator = vgg_type_model.create_data_generator(\\\n",
    "    type_train_data,type_train_datagen,vgg_batch_size,\"type\")\n",
    "\n",
    "vgg_type_model.val_generator = vgg_type_model.create_data_generator(\\\n",
    "    type_val_data,type_val_datagen,vgg_batch_size,\"type\")\n",
    "\n",
    "# Resnet Shape Model Generators\n",
    "resnet_shape_model.train_generator = resnet_shape_model.create_data_generator(\\\n",
    "    shape_train_data,shape_train_datagen,resnet_batch_size,\"shape\")\n",
    "\n",
    "resnet_shape_model.val_generator = resnet_shape_model.create_data_generator(\\\n",
    "    shape_val_data,shape_val_datagen,resnet_batch_size,\"shape\")\n",
    "\n",
    "# Resnet Type Model Generators\n",
    "resnet_type_model.train_generator = resnet_type_model.create_data_generator(\\\n",
    "    type_train_data,type_train_datagen,resnet_batch_size,\"type\")\n",
    "\n",
    "resnet_type_model.val_generator = resnet_type_model.create_data_generator(\\\n",
    "    type_val_data,type_val_datagen,resnet_batch_size,\"type\")"
   ]
  },
  {
   "cell_type": "code",
   "execution_count": 167,
   "metadata": {},
   "outputs": [
    {
     "data": {
      "text/plain": [
       "<keras.preprocessing.image.DataFrameIterator at 0x24802e507f0>"
      ]
     },
     "execution_count": 167,
     "metadata": {},
     "output_type": "execute_result"
    }
   ],
   "source": []
  },
  {
   "cell_type": "code",
   "execution_count": null,
   "metadata": {},
   "outputs": [],
   "source": []
  },
  {
   "cell_type": "code",
   "execution_count": null,
   "metadata": {},
   "outputs": [],
   "source": []
  },
  {
   "cell_type": "code",
   "execution_count": null,
   "metadata": {},
   "outputs": [],
   "source": []
  },
  {
   "cell_type": "markdown",
   "metadata": {},
   "source": [
    "# Modelling & Evaluation"
   ]
  },
  {
   "cell_type": "markdown",
   "metadata": {},
   "source": [
    "From rubric:\n",
    "* baseline model\n",
    "* cost function\n",
    "* optimisation\n",
    "\n",
    "\n",
    "## Resnet Model\n",
    "https://github.com/priya-dwivedi/Deep-Learning/blob/master/resnet_keras/Residual_Networks_yourself.ipynb\n"
   ]
  },
  {
   "cell_type": "code",
   "execution_count": null,
   "metadata": {},
   "outputs": [],
   "source": [
    "# identity block -> standard block used in ResNets \n",
    "def identity_block(X, f, filters, stage, block):\n",
    "    '''\n",
    "    identity blocks are required to transform into a residual network \n",
    "    inputs:\n",
    "    X -> input tensor of shape (m, n_H_prev, n_W_prev, n_C_prev)\n",
    "    f -> integer determining the shape of the middle CONV's window\n",
    "    filters -> list of integers, defines number of filters in the CONV layer \n",
    "    stage -> integer, names the layers depending on position in NN\n",
    "    block -> string, used to name the layers, depending on their position in the network\n",
    "\n",
    "    outputs:\n",
    "    X -> the identity block, tensor of shape (n_H, n_W, n_C)\n",
    "    '''\n",
    "    # defines the name of branch according to current position\n",
    "    conv_name_base = \"res\" + str(stage) + block + \"_branch\"\n",
    "    bn_name_base = \"bn\" + str(stage) + block + \"_branch\"\n",
    "\n",
    "    # retrieve the filters to apply\n",
    "    F1, F2, F3 = filters\n",
    "\n",
    "    # save current input tensor\n",
    "    X_save = X \n",
    "\n",
    "    # first component \n",
    "    X = Conv2D(filters=F1, kernel_size=(1,1), strides=(1,1), padding=\"valid\", name=conv_name_base+\"2a\", kernel_initializer=glorot_uniform(seed=0))(X)\n",
    "    # normalises the channels axis\n",
    "    X = BatchNormalization(axis=3, name=bn_name_base+\"2a\")(X)\n",
    "    X = Activation(\"relu\")(X)\n",
    "\n",
    "    # second component\n",
    "    X = Conv2D(filters=F2, kernel_size=(f,f), strides=(1,1), padding=\"same\", name=conv_name_base+\"2b\", kernel_initializer=glorot_uniform(seed=0))(X)\n",
    "    X = BatchNormalization(axis=3, name=bn_name_base+\"2b\")(X)\n",
    "    X = Activation(\"relu\")(X)\n",
    "\n",
    "    # third component\n",
    "    X = Conv2D(filters=F3, kernel_size=(1,1), strides=(1,1), padding=\"valid\", name=conv_name_base+\"2c\", kernel_initializer=glorot_uniform(seed=0))(X)\n",
    "    X = BatchNormalization(axis=3, name=bn_name_base+\"2c\")(X)\n",
    "\n",
    "    # add shorcut connection to main path \n",
    "    X = Add()([X, X_save])\n",
    "    X = Activation(\"relu\")(X)\n",
    "\n",
    "    return X\n",
    "    "
   ]
  },
  {
   "cell_type": "code",
   "execution_count": 161,
   "metadata": {},
   "outputs": [],
   "source": [
    "# convolutional block -> standard block used in ResNets to ensure input and ouptut dimensions match\n",
    "def convolutional_block(X, f, filters, stage, block, s=2):\n",
    "    '''\n",
    "    identity blocks are required to transform into a residual network \n",
    "    inputs:\n",
    "    X -> input tensor of shape (m, n_H_prev, n_W_prev, n_C_prev)\n",
    "    f -> integer determining the shape of the middle CONV's window\n",
    "    filters -> list of integers, defines number of filters in the CONV layer \n",
    "    stage -> integer, names the layers depending on position in NN\n",
    "    block -> string, used to name the layers, depending on their position in the network\n",
    "    s -> integer, specifies the stride to be used, i.e. to reduce the dimension by a factor of 2, use a stride of 2\n",
    "\n",
    "    outputs:\n",
    "    X -> the identity block, tensor of shape (n_H, n_W, n_C)\n",
    "    '''\n",
    "    # defines the name of branch according to current position\n",
    "    conv_name_base = \"res\" + str(stage) + block + \"_branch\"\n",
    "    bn_name_base = \"bn\" + str(stage) + block + \"_branch\"\n",
    "\n",
    "    # retrieve the filters to apply\n",
    "    F1, F2, F3 = filters\n",
    "\n",
    "    # to build shortcut path\n",
    "    X_shortcut = X \n",
    "\n",
    "    # first component \n",
    "    X = Conv2D(filters=F1, kernel_size=(1,1), strides=(s,s), padding=\"valid\", name=conv_name_base+\"2a\", kernel_initializer=glorot_uniform(seed=0))(X)\n",
    "    # normalises the channels axis\n",
    "    X = BatchNormalization(axis=3, name=bn_name_base+\"2a\")(X)\n",
    "    X = Activation(\"relu\")(X)\n",
    "\n",
    "    # second component\n",
    "    X = Conv2D(filters=F2, kernel_size=(f,f), strides=(1,1), padding=\"same\", name=conv_name_base+\"2b\", kernel_initializer=glorot_uniform(seed=0))(X)\n",
    "    X = BatchNormalization(axis=3, name=bn_name_base+\"2b\")(X)\n",
    "    X = Activation(\"relu\")(X)\n",
    "\n",
    "    # third component\n",
    "    X = Conv2D(filters=F3, kernel_size=(1,1), strides=(1,1), padding=\"valid\", name=conv_name_base+\"2c\", kernel_initializer=glorot_uniform(seed=0))(X)\n",
    "    X = BatchNormalization(axis=3, name=bn_name_base+\"2c\")(X)\n",
    "\n",
    "    # build the shortcut path \n",
    "    X_shortcut = Conv2D(filters=F3, kernel_size=(1,1), strides=(s,s), padding=\"valid\", name=conv_name_base+\"1\", kernel_initializer=glorot_uniform(seed=0))(X_shortcut)\n",
    "    X_shortcut = BatchNormalization(axis=3, name=bn_name_base+\"1\")(X_shortcut)\n",
    "\n",
    "\n",
    "    # add shortcut connection to main path \n",
    "    X = Add()([X, X_shortcut])\n",
    "    X = Activation(\"relu\")(X)\n",
    "\n",
    "    return X"
   ]
  },
  {
   "cell_type": "code",
   "execution_count": null,
   "metadata": {},
   "outputs": [],
   "source": [
    "# 50 layer ResNet Model\n",
    "def ResNet50(input_shape=(64,64,3), classes=6):\n",
    "    '''\n",
    "    ResNet50 Architecture follows:\n",
    "    (stage 1) = CONV2D -> BN -> RELU -> MAXPOOL -> \n",
    "    stage 2 = CONVBLOCK -> IDBLOCK x 2 -> \n",
    "    stage 3 = CONVBLOCK -> IDBLOCK X 3 -> \n",
    "    stage 4 = CONVBLOCK -> IDBLOCK X 5 -> \n",
    "    stage 5 = CONVBLOCK -> IDBLOCK x 2 -> \n",
    "    (stage 6) = AVGPOOL -> TOP LAYER\n",
    "\n",
    "    inputs:\n",
    "    input_shape -> shape of images in dataset \n",
    "    classes -> number of classes to predict\n",
    "\n",
    "    outputs:\n",
    "    model -> a Keras Model() instance for training\n",
    "    '''\n",
    "    # set the input shape\n",
    "    X_input = Input(input_shape)\n",
    "\n",
    "    # initialise the zero padding\n",
    "    X = ZeroPadding2D((3,3))(X_input)\n",
    "\n",
    "    # implement the architecture\n",
    "    X = Conv2D(64, (7,7), strides=(2,2), name=\"conv1\", kernel_initializer=glorot_uniform(seed=0))(X)\n",
    "    X = BatchNormalization(axis=3, name=\"bn_conv1\")(X)\n",
    "    X = Activation(\"relu\")(X)\n",
    "    X = MaxPooling2D((3,3), strides(2,2))(X)\n",
    "\n",
    "    X = convolutional_block(X, f=3, filters=[64,64,256], stage=2, block=\"a\", s=1)\n",
    "    X = identity_block(X, 3, [64,64,256], stage=2, block=\"b\")\n",
    "    X = identity_block(X, 3, [64,64,256], stage=2, block=\"c\")\n",
    "\n",
    "    X = convolutional_block(X, f=3, filters=[128,128,512], stage=3, block=\"a\", s=2)\n",
    "    X = identity_block(X, 3, [128,128,512], stage=3, block=\"b\")\n",
    "    X = identity_block(X, 3, [128,128,512], stage=3, block=\"c\")\n",
    "    X = identity_block(X, 3, [128,128,512], stage=3, block=\"d\")\n",
    "\n",
    "    X = convolutional_block(X, f=3, filters=[256,256,1024], stage=4, block=\"a\", s=2)\n",
    "    X = identity_block(X, 3, [256,256,1024], stage=4, block=\"b\")\n",
    "    X = identity_block(X, 3, [256,256,1024], stage=4, block=\"c\")\n",
    "    X = identity_block(X, 3, [256,256,1024], stage=4, block=\"d\")\n",
    "    X = identity_block(X, 3, [256,256,1024], stage=4, block=\"e\")\n",
    "    X = identity_block(X, 3, [256,256,1024], stage=4, block=\"f\")\n",
    "\n",
    "    X = convolutional_block(X, f=3, filters=[512,512,2048], stage=5, block=\"a\", s=2)\n",
    "    X = identity_block(X, 3, [512,512,2048], stage=5, block=\"b\")\n",
    "    X = identity_block(X, 3, [512,512,2048], stage=5, block=\"c\")\n",
    "\n",
    "    X = AveragePooling2D((7,7), name=\"avg_pool\")(X)\n",
    "    X = Flatten()(X)\n",
    "    X = Dense(classes, activation=\"softmax\", name=\"fc\"+str(classes), kernel_initializer=glorot_uniform(seed=0))(X)\n",
    "\n",
    "    # create the resnet model\n",
    "    model = Model(inputs=X_input, outputs=X, name=\"ResNet50\")\n",
    "\n",
    "    return model"
   ]
  },
  {
   "cell_type": "code",
   "execution_count": null,
   "metadata": {},
   "outputs": [],
   "source": [
    "# initialise the model\n",
    "model = ResNet50(input_shape=(64,64,3), classes=6)\n",
    "\n",
    "# compile the model\n",
    "model.compile(optimizer=\"adam\", loss=tf.keras.losses.CategoricalCrossentropy(from_logits=False), metrics=[\"categorical_accuracy\"])"
   ]
  },
  {
   "cell_type": "code",
   "execution_count": null,
   "metadata": {},
   "outputs": [],
   "source": [
    "# data in to model \n",
    "resnet_history = model.fit_generator(train_generator, validation_data=validation_generator)"
   ]
  },
  {
   "cell_type": "code",
   "execution_count": null,
   "metadata": {},
   "outputs": [],
   "source": [
    "# get summary of model\n",
    "model.summary()"
   ]
  },
  {
   "cell_type": "code",
   "execution_count": null,
   "metadata": {},
   "outputs": [],
   "source": [
    "# results from training and val data \n",
    "plt.figure(figsize=(10,5))\n",
    "plt.subplot(1,2,1)\n",
    "plt.plot(resnet_history.history['loss'], 'r--')\n",
    "plt.plot(resnet_history.history['val_loss'], 'b--')\n",
    "plt.xlabel(\"epochs\")\n",
    "plt.ylabel(\"Loss\")\n",
    "plt.legend(['train', 'val'], loc='upper left')\n",
    "\n",
    "plt.subplot(1,2,2)\n",
    "plt.plot(resnet_history.history['categorical_accuracy'], 'r--')\n",
    "plt.plot(resnet_history.history['val_categorical_accuracy'], 'b--')\n",
    "plt.xlabel(\"epochs\")\n",
    "plt.ylabel(\"Accuracy\")\n",
    "plt.legend(['train', 'val'], loc='upper left')\n",
    "plt.show()\n",
    "\n",
    "plt.show()"
   ]
  },
  {
   "cell_type": "markdown",
   "metadata": {},
   "source": [
    "## Ultimate Judgement - Sign-Shape"
   ]
  },
  {
   "cell_type": "markdown",
   "metadata": {},
   "source": [
    "## Ultimate Judgement - Sign-Type"
   ]
  },
  {
   "cell_type": "markdown",
   "metadata": {},
   "source": [
    "# Deployment on Independent Data"
   ]
  },
  {
   "cell_type": "code",
   "execution_count": null,
   "metadata": {},
   "outputs": [],
   "source": [
    "# read in and prep of independent data"
   ]
  },
  {
   "cell_type": "markdown",
   "metadata": {},
   "source": [
    "Can't forget:\n",
    "* discuss challenges faced in combining new data to model \n",
    "    - data transformation into required format per training = 28x28 grey-scale etc."
   ]
  },
  {
   "cell_type": "markdown",
   "metadata": {},
   "source": [
    "# References\n",
    "Kelleher, J., Namee, B. and D'Arcy, A., 2015. Fundamentals of Machine Learning for Predictive Data Analytics. Cambridge: MIT Press.\n"
   ]
  }
 ],
 "metadata": {
  "interpreter": {
   "hash": "8308346e19cf2b0be3e0b83c538060a7b8ef0e43afb02b471d9feccd5b5f1c4b"
  },
  "kernelspec": {
   "display_name": "Python 3.8.8 ('pds')",
   "language": "python",
   "name": "python3"
  },
  "language_info": {
   "codemirror_mode": {
    "name": "ipython",
    "version": 3
   },
   "file_extension": ".py",
   "mimetype": "text/x-python",
   "name": "python",
   "nbconvert_exporter": "python",
   "pygments_lexer": "ipython3",
   "version": "3.8.8"
  },
  "orig_nbformat": 4
 },
 "nbformat": 4,
 "nbformat_minor": 2
}
