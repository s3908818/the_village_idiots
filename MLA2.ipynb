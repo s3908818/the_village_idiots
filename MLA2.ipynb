{
 "cells": [
  {
   "cell_type": "markdown",
   "metadata": {},
   "source": [
    "# COSC2673 - Machine Learning - Assignment 2\n",
    "### Authors: Louise Platts (S3908818) & Samuel Macintyre (S3888492)\n",
    "\n",
    "# Classifying Images of Road Traffic Signs"
   ]
  },
  {
   "cell_type": "markdown",
   "metadata": {},
   "source": [
    "# Introduction"
   ]
  },
  {
   "cell_type": "markdown",
   "metadata": {},
   "source": [
    "* want to solve two problems \n",
    "    - classifying road signs according to sign-shape\n",
    "    - classifying road signs according to sign-type\n",
    "* utilises the modified Belgium Traffic Sign Classification Benchmark dataset (as preprepared for this assignment and provided on Canvas)\n",
    "* problems will be solved via investigations of supervised machine learning algorithms for each of the two problems\n",
    "* a final independent evaluation will also take place which will involve using the trained models on independently collected data and evaluating performance\n",
    "\n",
    "#### More about the dataset\n",
    "* 28x28 gray-scale images \n",
    "* possible sign-shapes\n",
    "    - diamond\n",
    "    - hex \n",
    "    - round \n",
    "    - square\n",
    "    - triangle\n",
    "* possible sign-types\n",
    "    - right of way\n",
    "    - stop\n",
    "    - bicycle\n",
    "    - limited traffic\n",
    "    - no entry\n",
    "    - no parking\n",
    "    - roundabout\n",
    "    - speed\n",
    "    - traffic directive\n",
    "    - travel direction\n",
    "    - continue\n",
    "    - crossing\n",
    "    - lane end\n",
    "    - parking\n",
    "    - giveway\n",
    "    - warning\n"
   ]
  },
  {
   "cell_type": "markdown",
   "metadata": {},
   "source": [
    "#### CRISP-DM Process \n",
    "Our investigation and solution to the problem is guided by the Cross Industry Standard Process for Data Mining (CRISP-DM) process.  Kelleher, Namee and D'Arcy (2015) describe this process as containing key phases which have been modified to suit our problem and will be addressed as follows:\n",
    "* Data Understanding - examining the data structure, and for our case the file structure as this contains the relevant label for each data point \n",
    "* Data Preparation - examining required inputs of machine learning algorithms and models and transforming to suit\n",
    "* Modelling - apply machine learning algorithms and models to investigate the application and performance of models, and attempt to improve performance via tuning \n",
    "* Evaluation - generating performance metrics for models generated, and using this to guide further tuning and improvement of models, finding the ultimate best model type and parameter choice for the problem to solve\n",
    "* Deployment - using the ultimate model found for each problem and applying it to independent data to implement the model in a real-world situation"
   ]
  },
  {
   "cell_type": "markdown",
   "metadata": {},
   "source": [
    "#### Libraries Required\n",
    "\n",
    "* what libraries are available for image classification supervised ml \n",
    "* why we made decisions we did - e.g. tensorflow because taught and requested by teacing team ?? [probs not this but lol we have been told] etc. "
   ]
  },
  {
   "cell_type": "code",
   "execution_count": null,
   "metadata": {},
   "outputs": [],
   "source": [
    "# import statements\n",
    "# test push"
   ]
  },
  {
   "cell_type": "markdown",
   "metadata": {},
   "source": [
    "# Data Understanding & Data Preparation"
   ]
  },
  {
   "cell_type": "code",
   "execution_count": null,
   "metadata": {},
   "outputs": [],
   "source": [
    "# read in data\n",
    "\n",
    "# file directory structure to be used to create label info in df"
   ]
  },
  {
   "cell_type": "markdown",
   "metadata": {},
   "source": [
    "# Modelling & Evaluation"
   ]
  },
  {
   "cell_type": "markdown",
   "metadata": {},
   "source": [
    "From rubric:\n",
    "* baseline model\n",
    "* cost function\n",
    "* optimisation"
   ]
  },
  {
   "cell_type": "code",
   "execution_count": null,
   "metadata": {},
   "outputs": [],
   "source": [
    "# baseline + tuning for each \n",
    "# at least one for each problem required -> we want to do 2 full models at least"
   ]
  },
  {
   "cell_type": "markdown",
   "metadata": {},
   "source": [
    "## Ultimate Judgement - Sign-Shape"
   ]
  },
  {
   "cell_type": "markdown",
   "metadata": {},
   "source": [
    "## Ultimate Judgement - Sign-Type"
   ]
  },
  {
   "cell_type": "markdown",
   "metadata": {},
   "source": [
    "# Deployment on Independent Data"
   ]
  },
  {
   "cell_type": "code",
   "execution_count": null,
   "metadata": {},
   "outputs": [],
   "source": [
    "# read in and prep of independent data"
   ]
  },
  {
   "cell_type": "markdown",
   "metadata": {},
   "source": [
    "Can't forget:\n",
    "* discuss challenges faced in combining new data to model \n",
    "    - data transformation into required format per training = 28x28 grey-scale etc."
   ]
  },
  {
   "cell_type": "markdown",
   "metadata": {},
   "source": [
    "# References\n",
    "Kelleher, J., Namee, B. and D'Arcy, A., 2015. Fundamentals of Machine Learning for Predictive Data Analytics. Cambridge: MIT Press.\n"
   ]
  }
 ],
 "metadata": {
  "interpreter": {
   "hash": "40d3a090f54c6569ab1632332b64b2c03c39dcf918b08424e98f38b5ae0af88f"
  },
  "kernelspec": {
   "display_name": "Python 3.8.5 64-bit ('base': conda)",
   "language": "python",
   "name": "python3"
  },
  "language_info": {
   "name": "python",
   "version": "3.8.5"
  },
  "orig_nbformat": 4
 },
 "nbformat": 4,
 "nbformat_minor": 2
}
