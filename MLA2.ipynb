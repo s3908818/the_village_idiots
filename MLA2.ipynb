{
 "cells": [
  {
   "cell_type": "markdown",
   "metadata": {},
   "source": [
    "# COSC2673 - Machine Learning - Assignment 2\n",
    "### Authors: Louise Platts (S3908818) & Samuel Macintyre (S3888492)\n",
    "\n",
    "# Classifying Images of Road Traffic Signs"
   ]
  },
  {
   "cell_type": "markdown",
   "metadata": {},
   "source": [
    "# Introduction"
   ]
  },
  {
   "cell_type": "markdown",
   "metadata": {},
   "source": [
    "* want to solve two problems \n",
    "    - classifying road signs according to sign-shape\n",
    "    - classifying road signs according to sign-type\n",
    "* utilises the modified Belgium Traffic Sign Classification Benchmark dataset (as preprepared for this assignment and provided on Canvas)\n",
    "* problems will be solved via investigations of supervised machine learning algorithms for each of the two problems\n",
    "* a final independent evaluation will also take place which will involve using the trained models on independently collected data and evaluating performance\n",
    "\n",
    "#### More about the dataset\n",
    "* 28x28 gray-scale images \n",
    "* possible sign-shapes\n",
    "    - diamond\n",
    "    - hex \n",
    "    - round \n",
    "    - square\n",
    "    - triangle\n",
    "* possible sign-types\n",
    "    - right of way\n",
    "    - stop\n",
    "    - bicycle\n",
    "    - limited traffic\n",
    "    - no entry\n",
    "    - no parking\n",
    "    - roundabout\n",
    "    - speed\n",
    "    - traffic directive\n",
    "    - travel direction\n",
    "    - continue\n",
    "    - crossing\n",
    "    - lane end\n",
    "    - parking\n",
    "    - giveway\n",
    "    - warning\n"
   ]
  },
  {
   "cell_type": "markdown",
   "metadata": {},
   "source": [
    "#### CRISP-DM Process \n",
    "Our investigation and solution to the problem is guided by the Cross Industry Standard Process for Data Mining (CRISP-DM) process.  Kelleher, Namee and D'Arcy (2015) describe this process as containing key phases which have been modified to suit our problem and will be addressed as follows:\n",
    "* Data Understanding - examining the data structure, and for our case the file structure as this contains the relevant label for each data point \n",
    "* Data Preparation - examining required inputs of machine learning algorithms and models and transforming to suit\n",
    "* Modelling - apply machine learning algorithms and models to investigate the application and performance of models, and attempt to improve performance via tuning \n",
    "* Evaluation - generating performance metrics for models generated, and using this to guide further tuning and improvement of models, finding the ultimate best model type and parameter choice for the problem to solve\n",
    "* Deployment - using the ultimate model found for each problem and applying it to independent data to implement the model in a real-world situation"
   ]
  },
  {
   "cell_type": "markdown",
   "metadata": {},
   "source": [
    "#### Libraries Required\n",
    "\n",
    "* what libraries are available for image classification supervised ml \n",
    "* why we made decisions we did - e.g. tensorflow because taught and requested by teacing team ?? [probs not this but lol we have been told] etc. "
   ]
  },
  {
   "cell_type": "code",
   "execution_count": 5,
   "metadata": {},
   "outputs": [],
   "source": [
    "# import statements\n",
    "    \n",
    "import numpy as np\n",
    "from sklearn.model_selection import train_test_split\n",
    "import pandas as pd\n",
    "import tensorflow as tf\n",
    "from tensorflow.keras.preprocessing.image import ImageDataGenerator\n",
    "import glob\n",
    "from PIL import Image\n",
    "import zipfile\n"
   ]
  },
  {
   "cell_type": "markdown",
   "metadata": {},
   "source": [
    "# Data Understanding & Data Preparation"
   ]
  },
  {
   "cell_type": "code",
   "execution_count": 50,
   "metadata": {},
   "outputs": [],
   "source": [
    "def image_reader(path):\n",
    "    image_list = []\n",
    "    for filepath in glob.glob(path, recursive=True):\n",
    "        shape = filepath.split(\"\\\\\")[-3]\n",
    "        type = filepath.split(\"\\\\\")[-2]\n",
    "        filename = filepath.split(\"\\\\\")[-1]\n",
    "        label = filename.split(\".\")[1]\n",
    "        \n",
    "        image_list.append({\"filepath\": filepath,'filename':filename,'label':label,'shape':shape,'type':type})\n",
    "\n",
    "    dataset = pd.DataFrame(image_list)\n",
    "\n",
    "    return dataset"
   ]
  },
  {
   "cell_type": "code",
   "execution_count": 51,
   "metadata": {},
   "outputs": [
    {
     "data": {
      "text/html": [
       "<div>\n",
       "<style scoped>\n",
       "    .dataframe tbody tr th:only-of-type {\n",
       "        vertical-align: middle;\n",
       "    }\n",
       "\n",
       "    .dataframe tbody tr th {\n",
       "        vertical-align: top;\n",
       "    }\n",
       "\n",
       "    .dataframe thead th {\n",
       "        text-align: right;\n",
       "    }\n",
       "</style>\n",
       "<table border=\"1\" class=\"dataframe\">\n",
       "  <thead>\n",
       "    <tr style=\"text-align: right;\">\n",
       "      <th></th>\n",
       "      <th>filepath</th>\n",
       "      <th>filename</th>\n",
       "      <th>label</th>\n",
       "      <th>shape</th>\n",
       "      <th>type</th>\n",
       "    </tr>\n",
       "  </thead>\n",
       "  <tbody>\n",
       "    <tr>\n",
       "      <th>0</th>\n",
       "      <td>./trafficsigns_dataset\\diamond\\rightofway\\0003...</td>\n",
       "      <td>00032_00000.png</td>\n",
       "      <td>png</td>\n",
       "      <td>diamond</td>\n",
       "      <td>rightofway</td>\n",
       "    </tr>\n",
       "    <tr>\n",
       "      <th>1</th>\n",
       "      <td>./trafficsigns_dataset\\diamond\\rightofway\\0003...</td>\n",
       "      <td>00032_00001.png</td>\n",
       "      <td>png</td>\n",
       "      <td>diamond</td>\n",
       "      <td>rightofway</td>\n",
       "    </tr>\n",
       "    <tr>\n",
       "      <th>2</th>\n",
       "      <td>./trafficsigns_dataset\\diamond\\rightofway\\0003...</td>\n",
       "      <td>00032_00002.png</td>\n",
       "      <td>png</td>\n",
       "      <td>diamond</td>\n",
       "      <td>rightofway</td>\n",
       "    </tr>\n",
       "    <tr>\n",
       "      <th>3</th>\n",
       "      <td>./trafficsigns_dataset\\diamond\\rightofway\\0003...</td>\n",
       "      <td>00037_00000.png</td>\n",
       "      <td>png</td>\n",
       "      <td>diamond</td>\n",
       "      <td>rightofway</td>\n",
       "    </tr>\n",
       "    <tr>\n",
       "      <th>4</th>\n",
       "      <td>./trafficsigns_dataset\\diamond\\rightofway\\0003...</td>\n",
       "      <td>00037_00001.png</td>\n",
       "      <td>png</td>\n",
       "      <td>diamond</td>\n",
       "      <td>rightofway</td>\n",
       "    </tr>\n",
       "  </tbody>\n",
       "</table>\n",
       "</div>"
      ],
      "text/plain": [
       "                                            filepath         filename label  \\\n",
       "0  ./trafficsigns_dataset\\diamond\\rightofway\\0003...  00032_00000.png   png   \n",
       "1  ./trafficsigns_dataset\\diamond\\rightofway\\0003...  00032_00001.png   png   \n",
       "2  ./trafficsigns_dataset\\diamond\\rightofway\\0003...  00032_00002.png   png   \n",
       "3  ./trafficsigns_dataset\\diamond\\rightofway\\0003...  00037_00000.png   png   \n",
       "4  ./trafficsigns_dataset\\diamond\\rightofway\\0003...  00037_00001.png   png   \n",
       "\n",
       "     shape        type  \n",
       "0  diamond  rightofway  \n",
       "1  diamond  rightofway  \n",
       "2  diamond  rightofway  \n",
       "3  diamond  rightofway  \n",
       "4  diamond  rightofway  "
      ]
     },
     "execution_count": 51,
     "metadata": {},
     "output_type": "execute_result"
    }
   ],
   "source": [
    "raw_data = image_reader(\"./trafficsigns_dataset/*/*/*.png\")\n",
    "raw_data.head()"
   ]
  },
  {
   "cell_type": "code",
   "execution_count": null,
   "metadata": {},
   "outputs": [],
   "source": [
    "\n",
    "\n",
    "# read in data\n",
    "\n",
    "\n",
    "\n",
    "# file directory structure to be used to create label info in df"
   ]
  },
  {
   "cell_type": "markdown",
   "metadata": {},
   "source": [
    "# Modelling & Evaluation"
   ]
  },
  {
   "cell_type": "markdown",
   "metadata": {},
   "source": [
    "From rubric:\n",
    "* baseline model\n",
    "* cost function\n",
    "* optimisation\n",
    "\n",
    "\n",
    "## Baseline Model VGG or LeNet"
   ]
  },
  {
   "cell_type": "code",
   "execution_count": null,
   "metadata": {},
   "outputs": [],
   "source": []
  },
  {
   "cell_type": "code",
   "execution_count": null,
   "metadata": {},
   "outputs": [],
   "source": [
    "# baseline + tuning for each \n",
    "# at least one for each problem required -> we want to do 2 full models at least"
   ]
  },
  {
   "cell_type": "markdown",
   "metadata": {},
   "source": [
    "## Ultimate Judgement - Sign-Shape"
   ]
  },
  {
   "cell_type": "markdown",
   "metadata": {},
   "source": [
    "## Ultimate Judgement - Sign-Type"
   ]
  },
  {
   "cell_type": "markdown",
   "metadata": {},
   "source": [
    "# Deployment on Independent Data"
   ]
  },
  {
   "cell_type": "code",
   "execution_count": null,
   "metadata": {},
   "outputs": [],
   "source": [
    "# read in and prep of independent data"
   ]
  },
  {
   "cell_type": "markdown",
   "metadata": {},
   "source": [
    "Can't forget:\n",
    "* discuss challenges faced in combining new data to model \n",
    "    - data transformation into required format per training = 28x28 grey-scale etc."
   ]
  },
  {
   "cell_type": "markdown",
   "metadata": {},
   "source": [
    "# References\n",
    "Kelleher, J., Namee, B. and D'Arcy, A., 2015. Fundamentals of Machine Learning for Predictive Data Analytics. Cambridge: MIT Press.\n"
   ]
  }
 ],
 "metadata": {
  "interpreter": {
   "hash": "8308346e19cf2b0be3e0b83c538060a7b8ef0e43afb02b471d9feccd5b5f1c4b"
  },
  "kernelspec": {
   "display_name": "Python 3.8.8 ('pds')",
   "language": "python",
   "name": "python3"
  },
  "language_info": {
   "codemirror_mode": {
    "name": "ipython",
    "version": 3
   },
   "file_extension": ".py",
   "mimetype": "text/x-python",
   "name": "python",
   "nbconvert_exporter": "python",
   "pygments_lexer": "ipython3",
   "version": "3.8.8"
  },
  "orig_nbformat": 4
 },
 "nbformat": 4,
 "nbformat_minor": 2
}
